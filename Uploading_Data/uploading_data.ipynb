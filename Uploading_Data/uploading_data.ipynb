{
 "cells": [
  {
   "cell_type": "code",
   "execution_count": 1,
   "metadata": {},
   "outputs": [],
   "source": [
    "import os\n",
    "\n",
    "from pathlib import Path\n",
    "from gwlandscape_python import GWLandscape\n",
    "\n",
    "gwl = GWLandscape(token='1446a1b3c8be718461913e2f6397e5bda92bf4959b65dd284374381a7f89cedc')\n",
    "PATH_TO_DATA = '/Volumes/T7/COMPAS_data/final_alpha_CE_beta'"
   ]
  },
  {
   "cell_type": "code",
   "execution_count": 5,
   "metadata": {},
   "outputs": [],
   "source": [
    "publication = gwl.create_publication(\n",
    "    author='Adam Boesky',\n",
    "    title='The Binary Black Hole Merger Rate Deviates from a Simple Delayed Cosmic Star Formation Rate: The Impact of Metallicity and Delay Time distributions',\n",
    "    arxiv_id='000000',\n",
    "    year=2023\n",
    ")"
   ]
  },
  {
   "cell_type": "markdown",
   "metadata": {},
   "source": [
    "Create datasets for alpha and beta models"
   ]
  },
  {
   "cell_type": "code",
   "execution_count": 5,
   "metadata": {},
   "outputs": [
    {
     "name": "stdout",
     "output_type": "stream",
     "text": [
      "Creating dataset for alpha = 0.1, beta = 0.25\n"
     ]
    },
    {
     "name": "stderr",
     "output_type": "stream",
     "text": [
      "100%|██████████| 51.6G/51.6G [18:48:40<00:00, 762kB/s]     \n",
      "Files are being processed remotely, please be patient. This may take a while...\n"
     ]
    },
    {
     "name": "stdout",
     "output_type": "stream",
     "text": [
      "Creating dataset for alpha = 0.1, beta = 0.5\n"
     ]
    },
    {
     "name": "stderr",
     "output_type": "stream",
     "text": [
      "  2%|▏         | 1.22G/48.9G [29:01<32:29:07, 408kB/s]   "
     ]
    }
   ],
   "source": [
    "alpha_vals = ['0.1', '0.5', '2.0', '10.0']  # All the alpha values\n",
    "beta_vals = ['0.25', '0.5', '0.75']         # All the beta values\n",
    "alpha_beta_datasets = {}\n",
    "\n",
    "for alpha in alpha_vals:\n",
    "    alpha_beta_datasets[alpha] = {}\n",
    "    for beta in beta_vals:\n",
    "        print(f'Creating dataset for alpha = {alpha}, beta = {beta}')\n",
    "        model = gwl.create_model(name=f'alpha = {alpha}, beta = {beta}')\n",
    "        alpha_beta_datasets[alpha][beta] = gwl.create_dataset(\n",
    "            publication=publication,\n",
    "            model=model,\n",
    "            datafile=os.path.join(PATH_TO_DATA, f'output_alpha_CE_{alpha}_beta_{beta}/COMPAS_Output_Weighted.h5')\n",
    "        )"
   ]
  },
  {
   "cell_type": "code",
   "execution_count": 13,
   "metadata": {},
   "outputs": [
    {
     "name": "stdout",
     "output_type": "stream",
     "text": [
      "/Volumes/T7/COMPAS_data/final_alpha_CE_beta/output_alpha_CE_0.1_beta_0.25/COMPAS_Output_Weighted.h5\n"
     ]
    }
   ],
   "source": [
    "print(os.path.join(PATH_TO_DATA, f'output_alpha_CE_{alpha}_beta_{beta}/COMPAS_Output_Weighted.h5'))"
   ]
  },
  {
   "cell_type": "code",
   "execution_count": 9,
   "metadata": {},
   "outputs": [],
   "source": [
    "import h5py\n",
    "\n",
    "# Create an empty HDF5 file\n",
    "with h5py.File('test.h5', \"w\") as f:\n",
    "    pass"
   ]
  },
  {
   "cell_type": "code",
   "execution_count": 7,
   "metadata": {},
   "outputs": [],
   "source": [
    "dset = gwl.get_datasets(publication=publication)"
   ]
  },
  {
   "cell_type": "markdown",
   "metadata": {},
   "source": [
    "# Clean up my stuff"
   ]
  },
  {
   "cell_type": "code",
   "execution_count": 4,
   "metadata": {},
   "outputs": [],
   "source": [
    "pubs = gwl.get_publications(author='Adam Boesky')"
   ]
  },
  {
   "cell_type": "code",
   "execution_count": 5,
   "metadata": {},
   "outputs": [
    {
     "name": "stdout",
     "output_type": "stream",
     "text": [
      "Deleting Publication(\"The Binary Black Hole Merger Rate Deviates from a Simple Delayed Cosmic Star Formation Rate: The Impact of Metallicity and Delay Time distributions\")\n",
      "Deleting Publication(\"The Binary Black Hole Merger Rate Deviates from a Simple Delayed Cosmic Star Formation Rate: The Impact of Metallicity and Delay Time distributions\")\n",
      "Deleting Publication(\"The Binary Black Hole Merger Rate Deviates from a Simple Delayed Cosmic Star Formation Rate: The Impact of Metallicity and Delay Time distributions\")\n",
      "Deleting Publication(\"The Binary Black Hole Merger Rate Deviates from a Simple Delayed Cosmic Star Formation Rate: The Impact of Metallicity and Delay Time distributions\")\n",
      "Deleting Publication(\"The Binary Black Hole Merger Rate Deviates from a Simple Delayed Cosmic Star Formation Rate: The Impact of Metallicity and Delay Time distributions\")\n",
      "Deleting Publication(\"The Binary Black Hole Merger Rate Deviates from a Simple Delayed Cosmic Star Formation Rate: The Impact of Metallicity and Delay Time distributions\")\n",
      "Deleting Publication(\"The Binary Black Hole Merger Rate Deviates from a Simple Delayed Cosmic Star Formation Rate: The Impact of Metallicity and Delay Time distributions\")\n",
      "Deleting Publication(\"The Binary Black Hole Merger Rate Deviates from a Simple Delayed Cosmic Star Formation Rate: The Impact of Metallicity and Delay Time distributions\")\n",
      "Deleting Publication(\"The Binary Black Hole Merger Rate Deviates from a Simple Delayed Cosmic Star Formation Rate: The Impact of Metallicity and Delay Time distributions\")\n",
      "Deleting Publication(\"The Binary Black Hole Merger Rate Deviates from a Simple Delayed Cosmic Star Formation Rate: The Impact of Metallicity and Delay Time distributions\")\n",
      "Deleting Publication(\"The Binary Black Hole Merger Rate Deviates from a Simple Delayed Cosmic Star Formation Rate: The Impact of Metallicity and Delay Time distributions\")\n",
      "Deleting Publication(\"The Binary Black Hole Merger Rate Deviates from a Simple Delayed Cosmic Star Formation Rate: The Impact of Metallicity and Delay Time distributions\")\n",
      "Deleting Publication(\"The Binary Black Hole Merger Rate Deviates from a Simple Delayed Cosmic Star Formation Rate: The Impact of Metallicity and Delay Time distributions\")\n",
      "Deleting Publication(\"The Binary Black Hole Merger Rate Deviates from a Simple Delayed Cosmic Star Formation Rate: The Impact of Metallicity and Delay Time distributions\")\n",
      "Deleting Publication(\"The Binary Black Hole Merger Rate Deviates from a Simple Delayed Cosmic Star Formation Rate: The Impact of Metallicity and Delay Time distributions\")\n",
      "Deleting Publication(\"The Binary Black Hole Merger Rate Deviates from a Simple Delayed Cosmic Star Formation Rate: The Impact of Metallicity and Delay Time distributions\")\n",
      "Deleting Publication(\"The Binary Black Hole Merger Rate Deviates from a Simple Delayed Cosmic Star Formation Rate: The Impact of Metallicity and Delay Time distributions\")\n",
      "Deleting Publication(\"The Binary Black Hole Merger Rate Deviates from a Simple Delayed Cosmic Star Formation Rate: The Impact of Metallicity and Delay Time distributions\")\n",
      "Deleting Publication(\"The Binary Black Hole Merger Rate Deviates from a Simple Delayed Cosmic Star Formation Rate: The Impact of Metallicity and Delay Time distributions\")\n",
      "Deleting Publication(\"The Binary Black Hole Merger Rate Deviates from a Simple Delayed Cosmic Star Formation Rate: The Impact of Metallicity and Delay Time distributions\")\n",
      "Deleting Publication(\"The Binary Black Hole Merger Rate Deviates from a Simple Delayed Cosmic Star Formation Rate: The Impact of Metallicity and Delay Time distributions\")\n",
      "Deleting Publication(\"The Binary Black Hole Merger Rate Deviates from a Simple Delayed Cosmic Star Formation Rate: The Impact of Metallicity and Delay Time distributions\")\n",
      "Deleting Publication(\"The Binary Black Hole Merger Rate Deviates from a Simple Delayed Cosmic Star Formation Rate: The Impact of Metallicity and Delay Time distributions\")\n",
      "Deleting Publication(\"The Binary Black Hole Merger Rate Deviates from a Simple Delayed Cosmic Star Formation Rate: The Impact of Metallicity and Delay Time distributions\")\n",
      "Deleting Publication(\"The Binary Black Hole Merger Rate Deviates from a Simple Delayed Cosmic Star Formation Rate: The Impact of Metallicity and Delay Time distributions\")\n",
      "Deleting Publication(\"The Binary Black Hole Merger Rate Deviates from a Simple Delayed Cosmic Star Formation Rate: The Impact of Metallicity and Delay Time distributions\")\n",
      "Deleting Publication(\"The Binary Black Hole Merger Rate Deviates from a Simple Delayed Cosmic Star Formation Rate: The Impact of Metallicity and Delay Time distributions\")\n",
      "Deleting Publication(\"The Binary Black Hole Merger Rate Deviates from a Simple Delayed Cosmic Star Formation Rate: The Impact of Metallicity and Delay Time distributions\")\n",
      "Deleting Publication(\"The Binary Black Hole Merger Rate Deviates from a Simple Delayed Cosmic Star Formation Rate: The Impact of Metallicity and Delay Time distributions\")\n"
     ]
    }
   ],
   "source": [
    "for pub in pubs:\n",
    "    print(f'Deleting {pub}')\n",
    "    pub.delete()"
   ]
  },
  {
   "cell_type": "code",
   "execution_count": 2,
   "metadata": {},
   "outputs": [],
   "source": [
    "PUB_DATA = {'author': 'Adam Boesky',\n",
    "    'title': 'The Binary Black Hole Merger Rate Deviates from a Simple Delayed Cosmic Star Formation Rate: The Impact of Metallicity and Delay Time distributions',\n",
    "    'arxiv_id': '000000',\n",
    "    'year': 2023}"
   ]
  },
  {
   "cell_type": "code",
   "execution_count": 8,
   "metadata": {},
   "outputs": [
    {
     "data": {
      "text/plain": [
       "[]"
      ]
     },
     "execution_count": 8,
     "metadata": {},
     "output_type": "execute_result"
    }
   ],
   "source": [
    "gwl.get_publications(title=PUB_DATA['title'])[0]"
   ]
  },
  {
   "cell_type": "code",
   "execution_count": 4,
   "metadata": {},
   "outputs": [
    {
     "name": "stdout",
     "output_type": "stream",
     "text": [
      "Getting publication with title: The Binary Black Hole Merger Rate Deviates from a Simple Delayed Cosmic Star Formation Rate: The Impact of Metallicity and Delay Time distributions\n"
     ]
    }
   ],
   "source": [
    "if len(gwl.get_publications(title=PUB_DATA['title'])) == 0:\n",
    "    print(f'Creating publication with data:\\n{PUB_DATA}')\n",
    "    gwl.create_publication(**PUB_DATA)\n",
    "elif len(gwl.get_publications(title=PUB_DATA['title'])) == 1:\n",
    "    print(f'Getting publication with title: {PUB_DATA[\"title\"]}')\n",
    "    PUB = gwl.get_publications(title=PUB_DATA['title'])[0]\n",
    "else:\n",
    "    raise KeyError(f\"There are {len(gwl.get_publications(title=PUB_DATA['title']))} publications with the given name!\")"
   ]
  },
  {
   "cell_type": "code",
   "execution_count": 18,
   "metadata": {},
   "outputs": [],
   "source": [
    "PUB.delete()"
   ]
  },
  {
   "cell_type": "code",
   "execution_count": 26,
   "metadata": {},
   "outputs": [
    {
     "data": {
      "text/plain": [
       "Publication(\"The Binary Black Hole Merger Rate Deviates from a Simple Delayed Cosmic Star Formation Rate: The Impact of Metallicity and Delay Time distributions\")"
      ]
     },
     "execution_count": 26,
     "metadata": {},
     "output_type": "execute_result"
    }
   ],
   "source": [
    "pub = gwl.get_publications(title=PUB_DATA['title'])[0]\n",
    "pub"
   ]
  },
  {
   "cell_type": "code",
   "execution_count": 29,
   "metadata": {},
   "outputs": [
    {
     "data": {
      "text/plain": [
       "8"
      ]
     },
     "execution_count": 29,
     "metadata": {},
     "output_type": "execute_result"
    }
   ],
   "source": [
    "len(gwl.get_datasets(publication=pub))"
   ]
  },
  {
   "cell_type": "code",
   "execution_count": 32,
   "metadata": {},
   "outputs": [
    {
     "name": "stdout",
     "output_type": "stream",
     "text": [
      "Deleting model: Model(\"alpha = 0.1, beta = 0.25\")\n",
      "Deleting model: Model(\"alpha = 0.1, beta = 0.25\")\n",
      "Deleting model: Model(\"alpha = 0.1, beta = 0.25\")\n",
      "Deleting model: Model(\"alpha = 0.1, beta = 0.25\")\n",
      "Deleting model: Model(\"alpha = 0.1, beta = 0.25\")\n",
      "Deleting model: Model(\"alpha = 0.1, beta = 0.25\")\n",
      "Deleting model: Model(\"alpha = 0.1, beta = 0.25\")\n",
      "Deleting model: Model(\"alpha = 0.1, beta = 0.25\")\n",
      "Deleting model: Model(\"alpha = 0.1, beta = 0.25\")\n",
      "Deleting model: Model(\"alpha = 0.1, beta = 0.5\")\n",
      "Deleting model: Model(\"alpha = 0.1, beta = 0.5\")\n",
      "Deleting model: Model(\"alpha = 0.1, beta = 0.75\")\n",
      "Deleting model: Model(\"alpha = 0.1, beta = 0.75\")\n",
      "Deleting model: Model(\"alpha = 0.5, beta = 0.25\")\n",
      "Deleting model: Model(\"alpha = 0.5, beta = 0.25\")\n",
      "Deleting model: Model(\"alpha = 0.5, beta = 0.5\")\n",
      "Deleting model: Model(\"alpha = 0.5, beta = 0.75\")\n",
      "Deleting model: Model(\"alpha = 0.5, beta = 0.75\")\n",
      "Deleting model: Model(\"alpha = 2.0, beta = 0.25\")\n",
      "Deleting model: Model(\"alpha = 2.0, beta = 0.5\")\n",
      "Deleting model: Model(\"alpha = 2.0, beta = 0.5\")\n",
      "Deleting model: Model(\"alpha = 2.0, beta = 0.75\")\n",
      "Deleting model: Model(\"alpha = 2.0, beta = 0.75\")\n",
      "Deleting model: Model(\"alpha = 10.0, beta = 0.25\")\n",
      "Deleting model: Model(\"alpha = 10.0, beta = 0.5\")\n",
      "Deleting model: Model(\"alpha = 10.0, beta = 0.5\")\n",
      "Deleting model: Model(\"alpha = 10.0, beta = 0.75\")\n",
      "Deleting model: Model(\"alpha = 10.0, beta = 0.75\")\n"
     ]
    }
   ],
   "source": [
    "alpha_vals = ['0.1', '0.5', '2.0', '10.0']\n",
    "beta_vals = ['0.25', '0.5', '0.75']\n",
    "for alpha in alpha_vals:\n",
    "    for beta in beta_vals:\n",
    "        model_name = f'alpha = {alpha}, beta = {beta}'\n",
    "        for m in gwl.get_models(name=model_name):\n",
    "            if len(gwl.get_datasets(publication=pub, model=m)) == 0:\n",
    "                m.delete()\n",
    "                print(f'Deleting model: {m}')"
   ]
  },
  {
   "cell_type": "code",
   "execution_count": 35,
   "metadata": {},
   "outputs": [
    {
     "name": "stdout",
     "output_type": "stream",
     "text": [
      "[Dataset(Publication(\"The Binary Black Hole Merger Rate Deviates from a Simple Delayed Cosmic Star Formation Rate: The Impact of Metallicity and Delay Time distributions\") - Model(\"alpha = 0.1, beta = 0.25\"))]\n",
      "[Dataset(Publication(\"The Binary Black Hole Merger Rate Deviates from a Simple Delayed Cosmic Star Formation Rate: The Impact of Metallicity and Delay Time distributions\") - Model(\"alpha = 0.1, beta = 0.5\"))]\n",
      "[Dataset(Publication(\"The Binary Black Hole Merger Rate Deviates from a Simple Delayed Cosmic Star Formation Rate: The Impact of Metallicity and Delay Time distributions\") - Model(\"alpha = 0.1, beta = 0.75\"))]\n",
      "[Dataset(Publication(\"The Binary Black Hole Merger Rate Deviates from a Simple Delayed Cosmic Star Formation Rate: The Impact of Metallicity and Delay Time distributions\") - Model(\"alpha = 0.5, beta = 0.25\"))]\n",
      "[Dataset(Publication(\"The Binary Black Hole Merger Rate Deviates from a Simple Delayed Cosmic Star Formation Rate: The Impact of Metallicity and Delay Time distributions\") - Model(\"alpha = 0.5, beta = 0.75\"))]\n",
      "[Dataset(Publication(\"The Binary Black Hole Merger Rate Deviates from a Simple Delayed Cosmic Star Formation Rate: The Impact of Metallicity and Delay Time distributions\") - Model(\"alpha = 2.0, beta = 0.25\"))]\n",
      "[Dataset(Publication(\"The Binary Black Hole Merger Rate Deviates from a Simple Delayed Cosmic Star Formation Rate: The Impact of Metallicity and Delay Time distributions\") - Model(\"alpha = 2.0, beta = 0.5\"))]\n",
      "[Dataset(Publication(\"The Binary Black Hole Merger Rate Deviates from a Simple Delayed Cosmic Star Formation Rate: The Impact of Metallicity and Delay Time distributions\") - Model(\"alpha = 10.0, beta = 0.5\"))]\n"
     ]
    }
   ],
   "source": [
    "alpha_vals = ['0.1', '0.5', '2.0', '10.0']\n",
    "beta_vals = ['0.25', '0.5', '0.75']\n",
    "for alpha in alpha_vals:\n",
    "    for beta in beta_vals:\n",
    "        model_name = f'alpha = {alpha}, beta = {beta}'\n",
    "        for m in gwl.get_models(name=model_name):\n",
    "            print(gwl.get_datasets(publication=pub, model=m))"
   ]
  },
  {
   "cell_type": "code",
   "execution_count": 12,
   "metadata": {},
   "outputs": [
    {
     "name": "stdout",
     "output_type": "stream",
     "text": [
      "[Dataset(Publication(\"The Binary Black Hole Merger Rate Deviates from a Simple Delayed Cosmic Star Formation Rate: The Impact of Metallicity and Delay Time distributions\") - Model(\"sigma_RMS = 30, RMP = D\"))]\n",
      "[Dataset(Publication(\"The Binary Black Hole Merger Rate Deviates from a Simple Delayed Cosmic Star Formation Rate: The Impact of Metallicity and Delay Time distributions\") - Model(\"sigma_RMS = 30, RMP = R\"))]\n",
      "[Dataset(Publication(\"The Binary Black Hole Merger Rate Deviates from a Simple Delayed Cosmic Star Formation Rate: The Impact of Metallicity and Delay Time distributions\") - Model(\"sigma_RMS = 30, RMP = M\"))]\n",
      "[Dataset(Publication(\"The Binary Black Hole Merger Rate Deviates from a Simple Delayed Cosmic Star Formation Rate: The Impact of Metallicity and Delay Time distributions\") - Model(\"sigma_RMS = 265, RMP = D\"))]\n",
      "No model with name sigma_RMS = 265, RMP = R\n",
      "[Dataset(Publication(\"The Binary Black Hole Merger Rate Deviates from a Simple Delayed Cosmic Star Formation Rate: The Impact of Metallicity and Delay Time distributions\") - Model(\"sigma_RMS = 265, RMP = M\"))]\n",
      "[Dataset(Publication(\"The Binary Black Hole Merger Rate Deviates from a Simple Delayed Cosmic Star Formation Rate: The Impact of Metallicity and Delay Time distributions\") - Model(\"sigma_RMS = 750, RMP = D\"))]\n",
      "[Dataset(Publication(\"The Binary Black Hole Merger Rate Deviates from a Simple Delayed Cosmic Star Formation Rate: The Impact of Metallicity and Delay Time distributions\") - Model(\"sigma_RMS = 750, RMP = R\"))]\n",
      "[Dataset(Publication(\"The Binary Black Hole Merger Rate Deviates from a Simple Delayed Cosmic Star Formation Rate: The Impact of Metallicity and Delay Time distributions\") - Model(\"sigma_RMS = 750, RMP = M\"))]\n"
     ]
    }
   ],
   "source": [
    "sigma_vals = ['30', '265', '750']\n",
    "rmp_vals = ['D', 'R', 'M']\n",
    "for sig in sigma_vals:\n",
    "    for rmp in rmp_vals:\n",
    "        model_name = f'sigma_RMS = {sig}, RMP = {rmp}'\n",
    "        mod = gwl.get_models(name=model_name)\n",
    "        if len(mod) != 0:\n",
    "            print(gwl.get_datasets(publication=PUB, model=mod[0]))\n",
    "        else:\n",
    "            print(f'No model with name {model_name}')\n",
    "        # mod.delete()"
   ]
  },
  {
   "cell_type": "code",
   "execution_count": 38,
   "metadata": {},
   "outputs": [],
   "source": [
    "dats = gwl.get_datasets(publication=pub)"
   ]
  },
  {
   "cell_type": "code",
   "execution_count": 40,
   "metadata": {},
   "outputs": [],
   "source": [
    "test = dats[0]"
   ]
  },
  {
   "cell_type": "code",
   "execution_count": 42,
   "metadata": {},
   "outputs": [
    {
     "data": {
      "text/plain": [
       "FileReferenceList([FileReference(path=PosixPath('COMPAS_Output_Weighted.h5'))])"
      ]
     },
     "execution_count": 42,
     "metadata": {},
     "output_type": "execute_result"
    }
   ],
   "source": [
    "test.get_full_file_list()"
   ]
  },
  {
   "cell_type": "code",
   "execution_count": 43,
   "metadata": {},
   "outputs": [
    {
     "name": "stderr",
     "output_type": "stream",
     "text": [
      "  0%|          | 20.4M/46.5G [00:27<8:31:51, 1.51MB/s]   "
     ]
    }
   ],
   "source": [
    "test.save_data_files('/Users/adamboesky/Research/PRISE/exploring_parameter_space/Uploading_Data')"
   ]
  },
  {
   "cell_type": "code",
   "execution_count": 3,
   "metadata": {},
   "outputs": [
    {
     "data": {
      "text/plain": [
       "[Dataset(Publication(\"The Binary Black Hole Merger Rate Deviates from a Simple Delayed Cosmic Star Formation Rate: The Impact of Metallicity and Delay Time distributions\") - Model(\"alpha = 2.0, beta = 0.25\")),\n",
       " Dataset(Publication(\"The Binary Black Hole Merger Rate Deviates from a Simple Delayed Cosmic Star Formation Rate: The Impact of Metallicity and Delay Time distributions\") - Model(\"alpha = 0.1, beta = 0.5\")),\n",
       " Dataset(Publication(\"The Binary Black Hole Merger Rate Deviates from a Simple Delayed Cosmic Star Formation Rate: The Impact of Metallicity and Delay Time distributions\") - Model(\"alpha = 0.5, beta = 0.75\")),\n",
       " Dataset(Publication(\"The Binary Black Hole Merger Rate Deviates from a Simple Delayed Cosmic Star Formation Rate: The Impact of Metallicity and Delay Time distributions\") - Model(\"alpha = 0.1, beta = 0.75\")),\n",
       " Dataset(Publication(\"The Binary Black Hole Merger Rate Deviates from a Simple Delayed Cosmic Star Formation Rate: The Impact of Metallicity and Delay Time distributions\") - Model(\"alpha = 10.0, beta = 0.5\")),\n",
       " Dataset(Publication(\"The Binary Black Hole Merger Rate Deviates from a Simple Delayed Cosmic Star Formation Rate: The Impact of Metallicity and Delay Time distributions\") - Model(\"alpha = 2.0, beta = 0.5\")),\n",
       " Dataset(Publication(\"The Binary Black Hole Merger Rate Deviates from a Simple Delayed Cosmic Star Formation Rate: The Impact of Metallicity and Delay Time distributions\") - Model(\"alpha = 0.1, beta = 0.25\")),\n",
       " Dataset(Publication(\"The Binary Black Hole Merger Rate Deviates from a Simple Delayed Cosmic Star Formation Rate: The Impact of Metallicity and Delay Time distributions\") - Model(\"alpha = 0.5, beta = 0.25\")),\n",
       " Dataset(Publication(\"The Binary Black Hole Merger Rate Deviates from a Simple Delayed Cosmic Star Formation Rate: The Impact of Metallicity and Delay Time distributions\") - Model(\"alpha = 0.5, beta = 0.5\")),\n",
       " Dataset(Publication(\"The Binary Black Hole Merger Rate Deviates from a Simple Delayed Cosmic Star Formation Rate: The Impact of Metallicity and Delay Time distributions\") - Model(\"alpha = 2.0, beta = 0.75\")),\n",
       " Dataset(Publication(\"The Binary Black Hole Merger Rate Deviates from a Simple Delayed Cosmic Star Formation Rate: The Impact of Metallicity and Delay Time distributions\") - Model(\"alpha = 10.0, beta = 0.75\")),\n",
       " Dataset(Publication(\"The Binary Black Hole Merger Rate Deviates from a Simple Delayed Cosmic Star Formation Rate: The Impact of Metallicity and Delay Time distributions\") - Model(\"alpha = 10.0, beta = 0.25\"))]"
      ]
     },
     "execution_count": 3,
     "metadata": {},
     "output_type": "execute_result"
    }
   ],
   "source": [
    "gwl = GWLandscape(token='YOUR_GWLANDSCAPE_TOKEN')\n",
    "pub = gwl.get_publications(author='Adam Boesky')[0]\n",
    "datasets = gwl.get_datasets(publication=pub)\n",
    "for dset in datasets:\n",
    "    dset.save_data_files('path/to/data/dir')"
   ]
  },
  {
   "cell_type": "code",
   "execution_count": 4,
   "metadata": {},
   "outputs": [],
   "source": [
    "import h5py as h5"
   ]
  },
  {
   "cell_type": "code",
   "execution_count": 5,
   "metadata": {},
   "outputs": [],
   "source": [
    "dpath = os.path.join(PATH_TO_DATA, f'output_alpha_CE_0.1_beta_0.25/COMPAS_Output_Weighted.h5')\n",
    "f = h5.File(dpath)"
   ]
  },
  {
   "cell_type": "code",
   "execution_count": 9,
   "metadata": {},
   "outputs": [
    {
     "data": {
      "text/plain": [
       "<KeysViewHDF5 ['Coalescence_Time', 'Eccentricity@DCO', 'Mass(1)', 'Mass(2)', 'Merges_Hubble_Time', 'Recycled_NS(1)', 'Recycled_NS(2)', 'SEED', 'SemiMajorAxis@DCO', 'Stellar_Type(1)', 'Stellar_Type(2)', 'Time', 'mixture_weight']>"
      ]
     },
     "execution_count": 9,
     "metadata": {},
     "output_type": "execute_result"
    }
   ],
   "source": [
    "f['BSE_Double_Compact_Objects'].keys()"
   ]
  },
  {
   "cell_type": "code",
   "execution_count": null,
   "metadata": {},
   "outputs": [],
   "source": []
  }
 ],
 "metadata": {
  "kernelspec": {
   "display_name": "PRISE",
   "language": "python",
   "name": "python3"
  },
  "language_info": {
   "codemirror_mode": {
    "name": "ipython",
    "version": 3
   },
   "file_extension": ".py",
   "mimetype": "text/x-python",
   "name": "python",
   "nbconvert_exporter": "python",
   "pygments_lexer": "ipython3",
   "version": "3.9.12"
  },
  "orig_nbformat": 4
 },
 "nbformat": 4,
 "nbformat_minor": 2
}
