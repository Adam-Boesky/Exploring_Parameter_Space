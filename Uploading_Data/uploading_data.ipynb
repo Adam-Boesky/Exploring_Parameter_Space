{
 "cells": [
  {
   "cell_type": "code",
   "execution_count": 1,
   "metadata": {},
   "outputs": [],
   "source": [
    "import os\n",
    "\n",
    "from pathlib import Path\n",
    "from gwlandscape_python import GWLandscape\n",
    "\n",
    "gwl = GWLandscape(token='1446a1b3c8be718461913e2f6397e5bda92bf4959b65dd284374381a7f89cedc')\n",
    "PATH_TO_DATA = '/Volumes/T7/COMPAS_data/final_alpha_CE_beta'"
   ]
  },
  {
   "cell_type": "code",
   "execution_count": 4,
   "metadata": {},
   "outputs": [],
   "source": [
    "publication = gwl.create_publication(\n",
    "    author='Adam Boesky',\n",
    "    title='The Binary Black Hole Merger Rate Deviates from a Simple Delayed Cosmic Star Formation Rate: The Impact of Metallicity and Delay Time distributions',\n",
    "    arxiv_id='000000',\n",
    "    year=2023\n",
    ")"
   ]
  },
  {
   "cell_type": "markdown",
   "metadata": {},
   "source": [
    "Create datasets for alpha and beta models"
   ]
  },
  {
   "cell_type": "code",
   "execution_count": 5,
   "metadata": {},
   "outputs": [
    {
     "name": "stdout",
     "output_type": "stream",
     "text": [
      "Creating dataset for alpha = 0.1, beta = 0.25\n"
     ]
    },
    {
     "name": "stderr",
     "output_type": "stream",
     "text": [
      "100%|██████████| 51.6G/51.6G [18:48:40<00:00, 762kB/s]     \n",
      "Files are being processed remotely, please be patient. This may take a while...\n"
     ]
    },
    {
     "name": "stdout",
     "output_type": "stream",
     "text": [
      "Creating dataset for alpha = 0.1, beta = 0.5\n"
     ]
    },
    {
     "name": "stderr",
     "output_type": "stream",
     "text": [
      "  2%|▏         | 1.22G/48.9G [29:01<32:29:07, 408kB/s]   "
     ]
    }
   ],
   "source": [
    "alpha_vals = ['0.1', '0.5', '2.0', '10.0']  # All the alpha values\n",
    "beta_vals = ['0.25', '0.5', '0.75']         # All the beta values\n",
    "alpha_beta_datasets = {}\n",
    "\n",
    "for alpha in alpha_vals:\n",
    "    alpha_beta_datasets[alpha] = {}\n",
    "    for beta in beta_vals:\n",
    "        print(f'Creating dataset for alpha = {alpha}, beta = {beta}')\n",
    "        model = gwl.create_model(name=f'alpha = {alpha}, beta = {beta}')\n",
    "        alpha_beta_datasets[alpha][beta] = gwl.create_dataset(\n",
    "            publication=publication,\n",
    "            model=model,\n",
    "            datafile=os.path.join(PATH_TO_DATA, f'output_alpha_CE_{alpha}_beta_{beta}/COMPAS_Output_Weighted.h5')\n",
    "        )"
   ]
  },
  {
   "cell_type": "code",
   "execution_count": 13,
   "metadata": {},
   "outputs": [
    {
     "name": "stdout",
     "output_type": "stream",
     "text": [
      "/Volumes/T7/COMPAS_data/final_alpha_CE_beta/output_alpha_CE_0.1_beta_0.25/COMPAS_Output_Weighted.h5\n"
     ]
    }
   ],
   "source": [
    "print(os.path.join(PATH_TO_DATA, f'output_alpha_CE_{alpha}_beta_{beta}/COMPAS_Output_Weighted.h5'))"
   ]
  },
  {
   "cell_type": "code",
   "execution_count": 9,
   "metadata": {},
   "outputs": [],
   "source": [
    "import h5py\n",
    "\n",
    "# Create an empty HDF5 file\n",
    "with h5py.File('test.h5', \"w\") as f:\n",
    "    pass"
   ]
  },
  {
   "cell_type": "code",
   "execution_count": 10,
   "metadata": {},
   "outputs": [
    {
     "name": "stderr",
     "output_type": "stream",
     "text": [
      "100%|██████████| 1.69k/1.69k [00:00<00:00, 1.69kB/s]\n",
      "Files are being processed remotely, please be patient. This may take a while...\n"
     ]
    }
   ],
   "source": [
    "model = gwl.create_model(name=f'TEST')\n",
    "alpha_beta_datasets[alpha][beta] = gwl.create_dataset(\n",
    "    publication=publication,\n",
    "    model=model,\n",
    "    datafile='test.h5'\n",
    ")"
   ]
  },
  {
   "cell_type": "code",
   "execution_count": null,
   "metadata": {},
   "outputs": [],
   "source": []
  }
 ],
 "metadata": {
  "kernelspec": {
   "display_name": "PRISE",
   "language": "python",
   "name": "python3"
  },
  "language_info": {
   "codemirror_mode": {
    "name": "ipython",
    "version": 3
   },
   "file_extension": ".py",
   "mimetype": "text/x-python",
   "name": "python",
   "nbconvert_exporter": "python",
   "pygments_lexer": "ipython3",
   "version": "3.9.12"
  },
  "orig_nbformat": 4
 },
 "nbformat": 4,
 "nbformat_minor": 2
}
